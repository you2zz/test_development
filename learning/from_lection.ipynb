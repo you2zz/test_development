{
 "cells": [
  {
   "cell_type": "code",
   "execution_count": null,
   "outputs": [],
   "source": [
    " def summarize(x: int, y: int) -> int:\n",
    "    return x + y\n",
    "\n",
    "\n",
    "def multiply(x: int, y: int) -> int:\n",
    "    return x * y\n",
    "\n",
    "\n",
    "def get_dict():\n",
    "    return {'name': 'Ivan', 'age': 29, 'city': 'Moscow'}\n",
    "\n",
    "\n",
    "def get_list():\n",
    "    return [1, 2, 3, 4]"
   ],
   "metadata": {
    "collapsed": false
   },
   "id": "9f2f3cf726b3d705"
  },
  {
   "cell_type": "code",
   "execution_count": null,
   "outputs": [],
   "source": [
    "#1\n",
    "res = summarize(10, 20)\n",
    "expected = 30\n",
    "expected2 = 25\n",
    "\n",
    "assert res == expected2"
   ],
   "metadata": {
    "collapsed": false
   },
   "id": "7727794771175393"
  },
  {
   "cell_type": "code",
   "execution_count": null,
   "outputs": [],
   "source": [
    "#2\n",
    "res = multiply(10, 20)\n",
    "expected = 1000\n",
    "assert res < expected"
   ],
   "metadata": {
    "collapsed": false
   },
   "id": "c4b65ca3de6a91d8"
  },
  {
   "cell_type": "code",
   "execution_count": null,
   "outputs": [],
   "source": [
    "#3\n",
    "dict1 = get_dict()\n",
    "key1 = 'name'\n",
    "key2 = 'surname'\n",
    "# assert key1 in dict1\n",
    "assert key2 in dict1"
   ],
   "metadata": {
    "collapsed": false
   },
   "id": "592a2c4124e264b9"
  },
  {
   "cell_type": "markdown",
   "source": [
    "#операции сравнения ==, !=, >, <, >=, <=\n",
    "#проверка на вхождение in, not in\n",
    "#проверка is, is not\n",
    "# isinstance(), issubclass()"
   ],
   "metadata": {
    "collapsed": false
   },
   "id": "aead1de7a6550e37"
  },
  {
   "cell_type": "code",
   "execution_count": null,
   "outputs": [],
   "source": [],
   "metadata": {
    "collapsed": false
   },
   "id": "fbaf895c66bdf8c"
  }
 ],
 "metadata": {
  "kernelspec": {
   "display_name": "Python 3",
   "language": "python",
   "name": "python3"
  },
  "language_info": {
   "codemirror_mode": {
    "name": "ipython",
    "version": 2
   },
   "file_extension": ".py",
   "mimetype": "text/x-python",
   "name": "python",
   "nbconvert_exporter": "python",
   "pygments_lexer": "ipython2",
   "version": "2.7.6"
  }
 },
 "nbformat": 4,
 "nbformat_minor": 5
}
